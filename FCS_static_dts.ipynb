{
 "cells": [
  {
   "cell_type": "code",
   "execution_count": 1,
   "metadata": {},
   "outputs": [],
   "source": [
    "# Importing the different packages\n",
    "%matplotlib inline\n",
    "import numpy as np\n",
    "import matplotlib.pyplot as plt\n",
    "import lmfit as lm\n",
    "from scipy.interpolate import interp1d\n",
    "from scipy.stats import norm\n",
    "from scipy.integrate import quad"
   ]
  },
  {
   "cell_type": "code",
   "execution_count": 13,
   "metadata": {},
   "outputs": [
    {
     "data": {
      "text/plain": [
       "0.01"
      ]
     },
     "execution_count": 13,
     "metadata": {},
     "output_type": "execute_result"
    }
   ],
   "source": [
    "# Different Parameters\n",
    "\n",
    "dt = 0.000001 # what is dt? is the sampling period in the time-domain\n",
    "length = 10000 # length of what? length of the intensity signal\n",
    "T = length*dt # time that signal covers\n",
    "D = 1 # diffusion coefficient\n",
    "sigma = 1 # standard deviation\n",
    "L = 6*np.sqrt(2*D*T+sigma**2)# half of the beam spot size, the radius\n",
    "N = int(4*L) # The number of particles"
   ]
  },
  {
   "cell_type": "code",
   "execution_count": 3,
   "metadata": {},
   "outputs": [],
   "source": [
    "# initial positions\n",
    "pos1 = 2*L*np.random.random(size=(N,))-L"
   ]
  },
  {
   "cell_type": "code",
   "execution_count": 4,
   "metadata": {},
   "outputs": [],
   "source": [
    "# random walks that were pregenerated\n",
    "# The matrix the same size of the number of particles by the total time is\n",
    "# generated and then the stacks are combined\n",
    "# The position at each point is found by taking the cumulative sum of the random kicks at each point in time\n",
    "steps = np.random.normal(loc=0,scale=np.sqrt(2*D*dt),size=(N,length))\n",
    "x = np.column_stack((pos1,steps))\n",
    "path = np.mod(np.cumsum(x,axis=1),2*L)-L"
   ]
  },
  {
   "cell_type": "code",
   "execution_count": 5,
   "metadata": {},
   "outputs": [
    {
     "data": {
      "text/plain": [
       "[<matplotlib.lines.Line2D at 0x1ec3af3bcc0>]"
      ]
     },
     "execution_count": 5,
     "metadata": {},
     "output_type": "execute_result"
    },
    {
     "data": {
      "image/png": "[encoded data removed]",
      "text/plain": [
       "<Figure size 432x288 with 1 Axes>"
      ]
     },
     "metadata": {},
     "output_type": "display_data"
    }
   ],
   "source": [
    "# simulating 2D gaussian illumination with variance = 1\n",
    "# This is to generate the intensity at each point in time\n",
    "# The intensities are found at each point by summing each the intensities of\n",
    "# every particles\n",
    "intensity = norm.pdf(path,loc=0)\n",
    "intensity = np.sum(intensity,axis=0) # moving to 1 dimension\n",
    "tt = np.arange(length+1)*dt # time-axis t[-1]=T\n",
    "plt.plot(tt,intensity)"
   ]
  },
  {
   "cell_type": "code",
   "execution_count": 6,
   "metadata": {},
   "outputs": [
    {
     "data": {
      "text/plain": [
       "59"
      ]
     },
     "execution_count": 6,
     "metadata": {},
     "output_type": "execute_result"
    },
    {
     "data": {
      "image/png": "[encoded data removed]",
      "text/plain": [
       "<Figure size 432x288 with 1 Axes>"
      ]
     },
     "metadata": {},
     "output_type": "display_data"
    }
   ],
   "source": [
    "# Multiply by the maximum intensity and then interpolate the \n",
    "# the intensities with the total time\n",
    "Imax = 10000\n",
    "intensity_interp = interp1d(tt,intensity*Imax)\n",
    "# Interpolating the intensity so we can jump by any interval in time\n",
    "# The time step is determined by dt\n",
    "# The intensity at each point is found by using the interpolated function and the current timepoint\n",
    "t = 0\n",
    "delta_t_list=[]\n",
    "while t < tt[-1]:\n",
    "    current_int = intensity_interp(t)\n",
    "    delta_t = np.random.exponential(1/current_int)\n",
    "    delta_t_list.append(delta_t)\n",
    "    t = t + delta_t\n",
    "plt.hist(delta_t_list,bins=30)\n",
    "len(delta_t_list)"
   ]
  },
  {
   "cell_type": "code",
   "execution_count": 7,
   "metadata": {},
   "outputs": [],
   "source": [
    "# Catches the delta_Ts into a list\n",
    "delta_t_list = np.array(delta_t_list)\n",
    "delta_t_list.sort(axis=0)"
   ]
  },
  {
   "cell_type": "code",
   "execution_count": 8,
   "metadata": {},
   "outputs": [],
   "source": [
    "# likelihood function\n",
    "def p_dt_int(x,flux):\n",
    "    return np.exp(-flux*x)/np.sqrt(-np.log(x))\n",
    "def p_dt(flux):\n",
    "    return np.array([quad(p_dt_int,0,1,args=(f))[0] for f in flux])"
   ]
  },
  {
   "cell_type": "code",
   "execution_count": 12,
   "metadata": {},
   "outputs": [
    {
     "data": {
      "text/plain": [
       "[<matplotlib.lines.Line2D at 0x1ec3b8fdfd0>]"
      ]
     },
     "execution_count": 12,
     "metadata": {},
     "output_type": "execute_result"
    },
    {
     "data": {
      "image/png": "[encoded data removed]",
      "text/plain": [
       "<Figure size 432x288 with 1 Axes>"
      ]
     },
     "metadata": {},
     "output_type": "display_data"
    }
   ],
   "source": [
    "# The likelihood function is mapped out by sampling different points\n",
    "# Note that we are using the negative of this function to make the maximum\n",
    "# a minimum to allow us to use already existing optimization functions\n",
    "I0 = 0\n",
    "tt = []\n",
    "s = []\n",
    "for i in range(100):\n",
    "    I0 = I0+1000;\n",
    "    tt.append(I0)\n",
    "    s.append(-N*np.log(I0)-np.sum(np.log(p_dt(I0*delta_t_list))))\n",
    "plt.plot(tt,s)"
   ]
  },
  {
   "cell_type": "code",
   "execution_count": 11,
   "metadata": {},
   "outputs": [
    {
     "name": "stdout",
     "output_type": "stream",
     "text": [
      "[[Variables]]\n",
      "    I0:  24749.0723 (init = 1000)\n"
     ]
    },
    {
     "name": "stderr",
     "output_type": "stream",
     "text": [
      "C:\\Users\\mebra\\Anaconda3\\lib\\site-packages\\lmfit\\minimizer.py:335: RuntimeWarning: divide by zero encountered in double_scalars\n",
      "  self.redchi = self.chisqr / self.nfree\n"
     ]
    }
   ],
   "source": [
    "# we find the minimum using Nelder mead in this case to find the \n",
    "# Io that gives us the best result\n",
    "p = lm.Parameters()\n",
    "p.add('I0',value=1000)\n",
    "N = len(delta_t_list)\n",
    "def residual(p):\n",
    "    return -N*np.log(p['I0'])-np.sum(np.log(p_dt(p['I0']*delta_t_list)))\n",
    "mini = lm.Minimizer(residual,p,nan_policy='omit')\n",
    "out1 = mini.minimize(method='Nelder')\n",
    "lm.report_fit(out1.params, min_correl=0.5)"
   ]
  },
  {
   "cell_type": "code",
   "execution_count": null,
   "metadata": {},
   "outputs": [],
   "source": []
  }
 ],
 "metadata": {
  "kernelspec": {
   "display_name": "Python 3",
   "language": "python",
   "name": "python3"
  },
  "language_info": {
   "codemirror_mode": {
    "name": "ipython",
    "version": 3
   },
   "file_extension": ".py",
   "mimetype": "text/x-python",
   "name": "python",
   "nbconvert_exporter": "python",
   "pygments_lexer": "ipython3",
   "version": "3.7.0"
  }
 },
 "nbformat": 4,
 "nbformat_minor": 2
}
